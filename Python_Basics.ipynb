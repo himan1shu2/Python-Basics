{
  "nbformat": 4,
  "nbformat_minor": 0,
  "metadata": {
    "colab": {
      "provenance": []
    },
    "kernelspec": {
      "name": "python3",
      "display_name": "Python 3"
    },
    "language_info": {
      "name": "python"
    }
  },
  "cells": [
    {
      "cell_type": "markdown",
      "source": [
        "1.What is Python, and why is it popular ?\n",
        "  - Python is a high-level, interpreted programming language known for its simplicity, readability, and versatility. Created by Guido van Rossum and first released in 1991, Python has grown into one of the most widely used languages in the world.\n",
        "  - Python is popular because it's easy to learn, versatile, and has a huge ecosystem of libraries and frameworks. It's used in web development, data science, automation, AI, and more. Its readable syntax, strong community, and high job demand make it a top choice for both beginners and professionals.\n",
        "\n",
        "2.What is an interpreter in Python ?\n",
        " - An interpreter is a program that reads and executes Python code line by line. It translates the high-level Python code (which humans can understand) into machine code (which the computer can execute) at runtime.\n",
        " - Example: When you run this in the terminal:\n",
        "  \n",
        "         python my_script.py\n",
        "\n",
        "3.What are pre-defined keywords in Python ?\n",
        "  - Pre-defined keywords in Python are special reserved words that have specific meanings and purposes in the language. You cannot use them as variable names or function names because Python uses them to define its syntax and structure.\n",
        "  - For ex. if, else, while, for, def, class, True, False etc.\n",
        "\n",
        "4.Can keywords be used as variable names ?\n",
        "  - No, keywords cannot be used as variable names in Python. Because keywords have special meaning in Python. Using them as variable names will cause a syntax error.\n",
        "\n",
        "5.What is mutability in Python ?\n",
        " - Mutability in Python refers to whether an object’s value can be changed after it is created.\n",
        "\n",
        "\n",
        " - Two Types of Objects:\n",
        "       a. Mutable – Can be changed after creation. (Examples: list, dict, set).\n",
        "       b. Immutable – Cannot be changed after creation. (int, float, str, tuple)\n",
        "\n",
        "6.Why are lists mutable, but tuples are immutable ?\n",
        " - Lists are designed to be flexible collections where you can add, remove, or change items after creation. This makes them mutable.\n",
        "\n",
        " - Tuples are meant to be fixed collections of items that should not change once created. This makes them immutable.\n",
        "\n",
        "7.What is the difference between “==” and “is” operators in Python.\n",
        " - == checks if values are the same.\n",
        " - is checks if both are the same object in memory.\n",
        "          a = [1, 2]\n",
        "          b = [1, 2]\n",
        "\n",
        "          print(a == b)  True (same values)\n",
        "          print(a is b)  False(different objects)\n",
        "\n",
        "8.What are logical operators in Python ?\n",
        " - Logical operators in Python are used to combine multiple conditions or expressions and return a\n",
        " Boolean result (True or False).\n",
        " -The three main logical operators are:\n",
        "      a. and — Returns True if both conditions are true\n",
        "      b. or — Returns True if at least one condition is true\n",
        "      c. not — Reverses the result (True becomes False, and vice versa)\n",
        "\n",
        "         ex. x = 5\n",
        "             print(x > 2 and x < 10)   True (both conditions true)\n",
        "             print(x < 2 or x == 5)    True (one condition true)\n",
        "             print(not(x > 2))         False (negates True)\n",
        "\n",
        "9.What is type casting in Python ?\n",
        " - Type casting in Python means converting a value from one data type to another.\n",
        "\n",
        "   Example: Convert integer to string, Convert string to float, etc.\n",
        "\n",
        "           x = \"10\"\n",
        "           y = int(x)   # converts string \"10\" to integer 10\n",
        "\n",
        "           z = 5\n",
        "           s = str(z)   # converts integer 5 to string \"5\"\n",
        "\n",
        "10.What is the difference between implicit and explicit type casting ?\n",
        " -  Implicit Type Casting -- Automatically done by Python.Converts one data type to another without you telling it.Happens when you mix data types in operations.\n",
        "             x = 5       # int\n",
        "             y = 2.0     # float\n",
        "             z = x + y   # x is implicitly converted to float\n",
        "             print(z)    # 7.0 (float)\n",
        "  \n",
        "- Explicit Type Casting -- You manually convert data types using functions like int(), str(), float(), etc.\n",
        "\n",
        "            x = \"10\"\n",
        "            y = int(x)   # explicitly converting string to int\n",
        "            print(y)     # 10    \n",
        "\n",
        "11.What is the purpose of conditional statements in Python ?                \n",
        " - Conditional statements are used to make decisions in code.\n",
        "They let your program choose different actions based on conditions (like if, elif, else).\n",
        "\n",
        "            if x > 0:\n",
        "            print(\"Positive\")\n",
        "\n",
        "12.How does the elif statement work?\n",
        " - elif means \"else if\"\n",
        " - It checks another condition if the previous if is False.\n",
        "\n",
        "             x = 0\n",
        "             if x > 0:\n",
        "             print(\"Positive\")\n",
        "             elif x == 0:\n",
        "             print(\"Zero\")  # This runs\n",
        "             else:\n",
        "             print(\"Negative\")\n",
        "\n",
        "13.What is the difference between for and while loops?\n",
        " - for loop: used for Known number of iterations. Iterates over a sequence (list, range).\n",
        " - while loop: used for Unknown number, run until condition is False. Repeats as long as condition is True.\n",
        "\n",
        "               for i in range(5):      # Known range\n",
        "               print(i)\n",
        "\n",
        "               while x < 5:            # Based on condition\n",
        "               x += 1\n",
        "\n",
        "14.Describe a scenario where a while loop is more suitable than a for loop?\n",
        " - Use a while loop when you don't know in advance how many times the loop should run.\n",
        "\n",
        "        Example scenario:\n",
        "        Keep asking a user for a password until they enter the correct one:\n",
        "\n",
        "        password= \"\"\n",
        "        while password != \"1234\":\n",
        "        password = input(\"Enter password: \")\n",
        "        print(\"Access granted\")              \n"
      ],
      "metadata": {
        "id": "dJxUKeoYW0Am"
      }
    },
    {
      "cell_type": "code",
      "source": [
        "#Practical Questions\n",
        "# 1.Write a Python program to print \"Hello, World!\"\n",
        "print(\"Hello, World!\")"
      ],
      "metadata": {
        "colab": {
          "base_uri": "https://localhost:8080/"
        },
        "id": "mopO5nGdzzXN",
        "outputId": "674977eb-7005-44ab-92f6-2b1c1b753432"
      },
      "execution_count": 2,
      "outputs": [
        {
          "output_type": "stream",
          "name": "stdout",
          "text": [
            "Hello, World!\n"
          ]
        }
      ]
    },
    {
      "cell_type": "code",
      "source": [
        "# 2.Write a Python program that displays your name and age.\n",
        "name = \"Himanshu\"\n",
        "age = 21\n",
        "print(\"My name is\", name)\n",
        "print(\"I am\", age, \"years old.\")"
      ],
      "metadata": {
        "colab": {
          "base_uri": "https://localhost:8080/"
        },
        "id": "pRAfmd2S0Dqz",
        "outputId": "a647647e-08ca-4f14-c992-3b83017ef8d0"
      },
      "execution_count": 4,
      "outputs": [
        {
          "output_type": "stream",
          "name": "stdout",
          "text": [
            "My name is Himanshu\n",
            "I am 21 years old.\n"
          ]
        }
      ]
    },
    {
      "cell_type": "code",
      "source": [
        "# 3.Write code to print all the pre-defined keywords in Python using the Keyword library.\n",
        "import keyword\n",
        "python_keywords = keyword.kwlist\n",
        "print(\"Python keywords:\")\n",
        "for kw in python_keywords:\n",
        "    print(kw)\n"
      ],
      "metadata": {
        "colab": {
          "base_uri": "https://localhost:8080/"
        },
        "id": "mDvW3BTa0DkS",
        "outputId": "ea87a9e1-66ee-426a-8f63-ca606a99adfe"
      },
      "execution_count": 5,
      "outputs": [
        {
          "output_type": "stream",
          "name": "stdout",
          "text": [
            "Python keywords:\n",
            "False\n",
            "None\n",
            "True\n",
            "and\n",
            "as\n",
            "assert\n",
            "async\n",
            "await\n",
            "break\n",
            "class\n",
            "continue\n",
            "def\n",
            "del\n",
            "elif\n",
            "else\n",
            "except\n",
            "finally\n",
            "for\n",
            "from\n",
            "global\n",
            "if\n",
            "import\n",
            "in\n",
            "is\n",
            "lambda\n",
            "nonlocal\n",
            "not\n",
            "or\n",
            "pass\n",
            "raise\n",
            "return\n",
            "try\n",
            "while\n",
            "with\n",
            "yield\n"
          ]
        }
      ]
    },
    {
      "cell_type": "code",
      "source": [
        "# 4. Write a program that checks if a given word is a Python keyword.\n",
        "\n",
        "import keyword\n",
        "word = input(\"Enter a word to check if it's a Python keyword: \")\n",
        "\n",
        "if keyword.iskeyword(word):\n",
        "    print(f\"'{word}' is a Python keyword.\")\n",
        "else:\n",
        "    print(f\"'{word}' is NOT a Python keyword.\")"
      ],
      "metadata": {
        "colab": {
          "base_uri": "https://localhost:8080/"
        },
        "id": "xoG4zahl1RB2",
        "outputId": "eeaac4f7-b1c8-4f9c-f636-c3979ee981ba"
      },
      "execution_count": 6,
      "outputs": [
        {
          "output_type": "stream",
          "name": "stdout",
          "text": [
            "Enter a word to check if it's a Python keyword: if\n",
            "'if' is a Python keyword.\n"
          ]
        }
      ]
    },
    {
      "cell_type": "code",
      "source": [
        "# 5. Create a list and tuple in Python, and demonstrate how attempting to change an element works differently for each.\n",
        "my_list = [1, 2, 3]\n",
        "my_tuple = (1, 2, 3)\n",
        "\n",
        "print(\"Original list:\", my_list)\n",
        "print(\"Original tuple:\", my_tuple)\n",
        "\n",
        "my_list[0] = 100\n",
        "print(\"Modified list:\", my_list)\n",
        "\n",
        "try:\n",
        "    my_tuple[0] = 100\n",
        "except TypeError as e:\n",
        "    print(\"Error when trying to modify tuple:\", e)"
      ],
      "metadata": {
        "colab": {
          "base_uri": "https://localhost:8080/"
        },
        "id": "7cmjE-dI1qxP",
        "outputId": "bb39335e-57eb-407f-9129-4d8a220b2e5c"
      },
      "execution_count": 7,
      "outputs": [
        {
          "output_type": "stream",
          "name": "stdout",
          "text": [
            "Original list: [1, 2, 3]\n",
            "Original tuple: (1, 2, 3)\n",
            "Modified list: [100, 2, 3]\n",
            "Error when trying to modify tuple: 'tuple' object does not support item assignment\n"
          ]
        }
      ]
    },
    {
      "cell_type": "code",
      "source": [
        "# 6. Write a function to demonstrate the behavior of mutable and immutable arguments.\n",
        "def change_values(x, mylist):\n",
        "    x = x + 1              # Immutable (int) — change local only\n",
        "    mylist.append(99)      # Mutable (list) — changes original list\n",
        "    print(\"Inside function:\")\n",
        "    print(\"x =\", x)\n",
        "    print(\"mylist =\", mylist)\n",
        "\n",
        "# Original values\n",
        "num = 10\n",
        "numbers = [1, 2, 3]\n",
        "\n",
        "# Function call\n",
        "change_values(num, numbers)\n",
        "\n",
        "print(\"\\nOutside function:\")\n",
        "print(\"num =\", num)           # ❌ Not changed (immutable)\n",
        "print(\"numbers =\", numbers)   # ✅ Changed (mutable)\n"
      ],
      "metadata": {
        "colab": {
          "base_uri": "https://localhost:8080/"
        },
        "id": "6KWbjTx-3ldv",
        "outputId": "598cddc6-fa9e-4db9-e318-d7b840d38dcf"
      },
      "execution_count": 8,
      "outputs": [
        {
          "output_type": "stream",
          "name": "stdout",
          "text": [
            "Inside function:\n",
            "x = 11\n",
            "mylist = [1, 2, 3, 99]\n",
            "\n",
            "Outside function:\n",
            "num = 10\n",
            "numbers = [1, 2, 3, 99]\n"
          ]
        }
      ]
    },
    {
      "cell_type": "code",
      "source": [
        "# 7. Write a program that performs basic arithmetic operations on two user-input numbers.\n",
        "\n",
        "num1 = float(input(\"Enter the first number: \"))\n",
        "num2 = float(input(\"Enter the second number: \"))\n",
        "\n",
        "addition = num1 + num2\n",
        "subtraction = num1 - num2\n",
        "multiplication = num1 * num2\n",
        "\n",
        "#for handle division to avoid division by zero\n",
        "if num2 != 0:\n",
        "    division = num1 / num2\n",
        "else:\n",
        "    division = \"Undefined (cannot divide by zero)\"\n",
        "\n",
        "print(\"\\nResults:\")\n",
        "print(f\"{num1} + {num2} = {addition}\")\n",
        "print(f\"{num1} - {num2} = {subtraction}\")\n",
        "print(f\"{num1} * {num2} = {multiplication}\")\n",
        "print(f\"{num1} / {num2} = {division}\")\n"
      ],
      "metadata": {
        "colab": {
          "base_uri": "https://localhost:8080/"
        },
        "id": "Z7eso2xG45RF",
        "outputId": "d31f5c75-9f8b-4a9c-ee0b-64a77b7d802e"
      },
      "execution_count": 12,
      "outputs": [
        {
          "output_type": "stream",
          "name": "stdout",
          "text": [
            "Enter the first number: 5\n",
            "Enter the second number: 6\n",
            "\n",
            "Results:\n",
            "5.0 + 6.0 = 11.0\n",
            "5.0 - 6.0 = -1.0\n",
            "5.0 * 6.0 = 30.0\n",
            "5.0 / 6.0 = 0.8333333333333334\n"
          ]
        }
      ]
    },
    {
      "cell_type": "code",
      "source": [
        "# 8. Write a program to demonstrate the use of logical operators.\n",
        "\n",
        "a = int(input(\"Enter first number: \"))\n",
        "b = int(input(\"Enter second number: \"))\n",
        "\n",
        "print(\"\\nLogical operators ke examples:\")\n",
        "\n",
        "# AND operator\n",
        "print(\"a > 5 and b > 5:\", a > 5 and b > 5)\n",
        "\n",
        "# OR operator\n",
        "print(\"a > 5 or b > 5:\", a > 5 or b > 5)\n",
        "\n",
        "# NOT operator\n",
        "print(\"not (a > 5):\", not (a > 5))\n",
        "\n",
        "\n"
      ],
      "metadata": {
        "colab": {
          "base_uri": "https://localhost:8080/"
        },
        "id": "DCEIngh76DXP",
        "outputId": "b421e4b0-1ec5-4153-cfde-3a1796e1c057"
      },
      "execution_count": 13,
      "outputs": [
        {
          "output_type": "stream",
          "name": "stdout",
          "text": [
            "Enter first number: 5\n",
            "Enter second number: 7\n",
            "\n",
            "Logical operators ke examples:\n",
            "a > 5 and b > 5: False\n",
            "a > 5 or b > 5: True\n",
            "not (a > 5): True\n"
          ]
        }
      ]
    },
    {
      "cell_type": "code",
      "source": [
        "# 9. Write a Python program to convert user input from string to integer, float, and boolean types.\n",
        "# User se input lo\n",
        "user_input = input(\"Enter something: \")\n",
        "\n",
        "# Convert karke print karo (seedha)\n",
        "print(\"Integer:\", int(user_input))\n",
        "print(\"Float:\", float(user_input))\n",
        "\n",
        "# Boolean conversion simple: agar input 'true' ho to True warna False\n",
        "print(\"Boolean:\", user_input.lower() == 'true')\n"
      ],
      "metadata": {
        "colab": {
          "base_uri": "https://localhost:8080/"
        },
        "id": "8fq5BzXS6u6F",
        "outputId": "22fdc4f6-2a5f-4dca-9d28-bd04251885d4"
      },
      "execution_count": 18,
      "outputs": [
        {
          "output_type": "stream",
          "name": "stdout",
          "text": [
            "Enter something: 10\n",
            "Integer: 10\n",
            "Float: 10.0\n",
            "Boolean: False\n"
          ]
        }
      ]
    },
    {
      "cell_type": "code",
      "source": [
        "# 10. Write code to demonstrate type casting with list elements.\n",
        "user_input = input(\"Enter numbers separated by space: \")  # Example input: 10 20 30 40\n",
        "str_list = user_input.split()\n",
        "\n",
        "print(\"Original list (strings):\", str_list)\n",
        "\n",
        "# Convert to integers\n",
        "int_list = [int(x) for x in str_list]\n",
        "print(\"List after casting to integers:\", int_list)\n"
      ],
      "metadata": {
        "colab": {
          "base_uri": "https://localhost:8080/"
        },
        "id": "XWsrJkUS7vPA",
        "outputId": "7c19ff47-bc4f-4dd7-b29b-06b3ce008787"
      },
      "execution_count": 19,
      "outputs": [
        {
          "output_type": "stream",
          "name": "stdout",
          "text": [
            "Enter numbers separated by space: 12 10 15 76\n",
            "Original list (strings): ['12', '10', '15', '76']\n",
            "List after casting to integers: [12, 10, 15, 76]\n"
          ]
        }
      ]
    },
    {
      "cell_type": "code",
      "source": [
        "# 11. Write a program that checks if a number is positive, negative, or zero.\n",
        "num = float(input(\"Enter a number: \"))\n",
        "\n",
        "if num > 0:\n",
        "    print(\"The number is positive.\")\n",
        "elif num < 0:\n",
        "    print(\"The number is negative.\")\n",
        "else:\n",
        "    print(\"The number is zero.\")\n"
      ],
      "metadata": {
        "colab": {
          "base_uri": "https://localhost:8080/"
        },
        "id": "KRN3TH0k8M-l",
        "outputId": "a98bf8ec-3249-462e-f6dc-40c9c9b6900c"
      },
      "execution_count": 20,
      "outputs": [
        {
          "output_type": "stream",
          "name": "stdout",
          "text": [
            "Enter a number: 4\n",
            "The number is positive.\n"
          ]
        }
      ]
    },
    {
      "cell_type": "code",
      "source": [
        "# 12. Write a for loop to print numbers from 1 to 10.\n",
        "for i in range(1, 11):\n",
        "    print(i)\n"
      ],
      "metadata": {
        "colab": {
          "base_uri": "https://localhost:8080/"
        },
        "id": "mQupgR7w8WR2",
        "outputId": "94d6763b-e02e-49be-d7a4-5154cecb4007"
      },
      "execution_count": 21,
      "outputs": [
        {
          "output_type": "stream",
          "name": "stdout",
          "text": [
            "1\n",
            "2\n",
            "3\n",
            "4\n",
            "5\n",
            "6\n",
            "7\n",
            "8\n",
            "9\n",
            "10\n"
          ]
        }
      ]
    },
    {
      "cell_type": "code",
      "source": [
        "#13. Write a Python program to find the sum of all even numbers between 1 and 50.\n",
        "total = 0\n",
        "for num in range(2, 51, 2):\n",
        "    total += num\n",
        "\n",
        "print(\"Sum of even numbers between 1 and 50 is:\", total)\n"
      ],
      "metadata": {
        "colab": {
          "base_uri": "https://localhost:8080/"
        },
        "id": "2OGGLLvo8ekD",
        "outputId": "f104b08b-9316-4c36-9737-422cb9b3d78b"
      },
      "execution_count": 22,
      "outputs": [
        {
          "output_type": "stream",
          "name": "stdout",
          "text": [
            "Sum of even numbers between 1 and 50 is: 650\n"
          ]
        }
      ]
    },
    {
      "cell_type": "code",
      "source": [
        "# 14. Write a program to reverse a string using a while loop.\n",
        "s = input(\"Enter a string: \")\n",
        "\n",
        "i = len(s) - 1\n",
        "rev = \"\"\n",
        "\n",
        "while i >= 0:\n",
        "    rev = rev + s[i]\n",
        "    i = i - 1\n",
        "\n",
        "print(\"Reversed string:\", rev)\n",
        "\n"
      ],
      "metadata": {
        "colab": {
          "base_uri": "https://localhost:8080/"
        },
        "id": "kzalSojK8t5t",
        "outputId": "1e076cef-703f-4c1f-c027-21a382667488"
      },
      "execution_count": 23,
      "outputs": [
        {
          "output_type": "stream",
          "name": "stdout",
          "text": [
            "Enter a string: the\n",
            "Reversed string: eht\n"
          ]
        }
      ]
    },
    {
      "cell_type": "code",
      "source": [
        "# 15. Write a Python program to calculate the factorial of a number provided by the user using a while loop.\n",
        "num = int(input(\"Enter a non-negative integer: \"))\n",
        "\n",
        "factorial = 1\n",
        "i = 1\n",
        "\n",
        "if num < 0:\n",
        "    print(\"Factorial is not defined for negative numbers.\")\n",
        "else:\n",
        "    while i <= num:\n",
        "        factorial *= i\n",
        "        i += 1\n",
        "    print(f\"Factorial of {num} is {factorial}\")\n"
      ],
      "metadata": {
        "id": "CxRYtI6T8_Nw"
      },
      "execution_count": null,
      "outputs": []
    }
  ]
}